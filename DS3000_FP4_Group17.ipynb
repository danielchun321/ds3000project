{
 "cells": [
  {
   "cell_type": "markdown",
   "metadata": {},
   "source": [
    "<center> <h2> DS 3000 - Spring 2020</h2> </center>\n",
    "<center> <h3> DS Report </h3> </center>"
   ]
  },
  {
   "cell_type": "markdown",
   "metadata": {},
   "source": [
    "<center> <h3> Predicting the 2020 March Madness Champions </h3> </center>\n",
    "<center> <h4> Daniel Chun, Thomas Gross, George Littlefield </h4> </center>"
   ]
  },
  {
   "cell_type": "markdown",
   "metadata": {},
   "source": [
    "## 1. Introduction"
   ]
  },
  {
   "cell_type": "markdown",
   "metadata": {},
   "source": [
    "### &emsp; 1.1. Problem Statement\n",
    "\n",
    "\n",
    "The topic of this project is to declare one team the champions of the 2020 March Madness tournament. Due to COVID-19, the tournament has been cancelled this year, as many other sporting events have been. Because of this, no team has been crowned the national champion for the first time since the tournament’s creation in 1939. We would like to declare a champion given the statistics of the division I teams over the course of the season before it was officially cancelled.\n",
    "\n",
    "By taking statistics from the 2020 season, as well as statistics from the past five seasons and their respective winners, we can analyze what regular season statistics were the most impactful on the results of the tournament. "
   ]
  },
  {
   "cell_type": "markdown",
   "metadata": {},
   "source": [
    "### &emsp; 1.2. Significance of the Problem\n",
    "\n",
    "\n",
    "It is important to tackle the problem in this project because this season, there is no clear-cut winner of the March Madness tournament as a result of the pandemic. Given the regular season team records and stats, we can determine which team is projected to win the tournament.\n",
    "\n",
    "The insights from this project can be useful because we can determine which regular season statistics affect a team’s performance in the March Madness tournament and can potentially predict future winners. The bracket games every season are one of the most exciting times for basketball fans, and if the model proves to be effective, it can be used to predict results of individual games as well. \n"
   ]
  },
  {
   "cell_type": "markdown",
   "metadata": {},
   "source": [
    "### &emsp; 1.3. Questions/Hypothesis\n",
    "\n",
    "**Research Questions**\n",
    "\n",
    "* Which regular season statistics are more important to a team's progress in the tournament?\n",
    "* Does defense really win championships? (Are defensive stats more relevant than offensive stats?)\n",
    "* Can we train a machine learning model to predict the final outcome of every team? In other words, which machine learning algorithm would work best: KNeighborsClassifier, Support Vector Machine, Gaussian Naive Bayes, or Decision Tree\n",
    "\n",
    "\n",
    "**Hypotheses**\n",
    "\n",
    "1. Features\n",
    "    - Null: The outcome of a team playing the tournament and a team's adjusted defensive efficiency stat has no correlation.\n",
    "    - Alternative: The outcome of a team playing the tournament and a team's adjusted defensive efficiency stat has a correlation. \n",
    "    \n",
    "    \n",
    "2. Model Selection\n",
    "    - Null: The Support Vector Machine classifier will yield the best results for the model\n",
    "    - Alternative: The Support Vector Machine classifier will not yield the best results for the model.\n",
    "\n",
    "\n",
    "3. Feature Selection\n",
    "    - Null: Feature selection will lead to higher accuracy of the model\n",
    "    - Alternative: Feature selection will not lead to higher accuracy of the model \n",
    "\n"
   ]
  },
  {
   "cell_type": "markdown",
   "metadata": {},
   "source": [
    "## 2. METHOD"
   ]
  },
  {
   "cell_type": "markdown",
   "metadata": {},
   "source": [
    "### 2.1. Data Acquisition\n",
    "\n",
    "\n",
    "The dataset was found at (https://www.kaggle.com/andrewsundberg/college-basketball-dataset). This was scraped by a user who then added the postseason, seed, and year columns into the dataset. The original source of this data before it was scraped is found at (https://barttorvik.com/trankpre.php). \n",
    "\n",
    "The dataset consists of team stats of all the NCAA division I men's basketball teams. There are 23 features (before cleaning), and 1 target which is the postseason column. The postseason column describes the final results of the team in the tournament. The data in this "
   ]
  },
  {
   "cell_type": "markdown",
   "metadata": {},
   "source": [
    "**Description of Features**\n",
    "\n",
    "\n",
    "\"\\[feature_name\\]\": \\[description\\]\n",
    "- “TEAM”: The NCAA Division I Team\n",
    "- “CONF”: The athletic conference the team plays in\n",
    "- “G”: Number of games played\n",
    "- “W”: Number of games won\n",
    "- “ADJOE”: Adjusted Offensive Efficiency (points scored per 100 possessions)\n",
    "- “ADJDE”: Adjusted Defensive Efficiency (points allowed per 100 possessions)\n",
    "- “BARTHAG”: Power rating (chance of beating a division I team)\n",
    "- “EFG_O”: Effective field goal percentage shot\n",
    "- “EFG_D”: Effective field goal percentage allowed\n",
    "- “TOR”: Turnover percentage allowed (turnover rate)\n",
    "- “TORD”: Turnover percentage committed (steal rate)\n",
    "- \"ORB\": Offensive rebound percentage\n",
    "- \"DRB\": Defensive rebound percentage\n",
    "- \"FTR\": Ratio of free throws to field goals; how often the team shoots FTs\n",
    "- \"FTRD\": Free throw rate allowed\n",
    "- \"2P_O\": 2-point shooting percentage \n",
    "- \"2P_D\": 2-point shooting percentage allowed\n",
    "- \"3P_O\": 3-point shooting percentage\n",
    "- \"3P_D\": 3-point shooting percentage allowed\n",
    "- \"ADJ_T\": Adjusted tempo (possessions per 40 minutes)\n",
    "- \"WAB\": Wins above bubble (cut off for making the tournament)\n",
    "- \"POSTSEASON\": Round where each team was eliminated; Champion = winner\n",
    "- \"SEED\": Seed in the tournament\n",
    "- \"YEAR\": Season"
   ]
  },
  {
   "cell_type": "markdown",
   "metadata": {},
   "source": [
    "### 2.2 Variables\n",
    "\n",
    "\n",
    "**Independent Variables (feature variables)**\n",
    "- *Number of games played*\n",
    "- *Number of games won*\n",
    "- *Adjusted Offensive Efficiency (points scored per 100 possessions)*\n",
    "- *Adjusted Defensive Efficiency (points allowed per 100 possessions)*\n",
    "- *Power rating (chance of beating a division I team)*\n",
    "- *Effective field goal percentage shot*\n",
    "- *Effective field goal percentage allowed*\n",
    "- *Turnover percentage allowed (turnover rate)*\n",
    "- *Turnover percentage committed (steal rate)*\n",
    "- *Offensive rebound percentage*\n",
    "- *Defensive rebound percentage*\n",
    "- *Ratio of free throws to field goals; how often the team shoots FTs*\n",
    "- *Free throw rate allowed*\n",
    "- *2-point shooting percentage*\n",
    "- *2-point shooting percentage allowed*\n",
    "- *3-point shooting percentage* \n",
    "- *3-point shooting percentage allowed*\n",
    "- *Adjusted tempo (possessions per 40 minutes)*\n",
    "- *Wins above bubble (cut off for making the tournament)*\n",
    "\n",
    "\n",
    "\n",
    "**Dependent Variables (target variable)**\n",
    "* *Round where each team was eliminated*\n",
    "\n",
    "**Rationale**\n",
    "\n",
    "The independent variables for the purpose of this project is all of the features listed above, except the team name, the conference the team plays in as they are not numerical variables. The dependent or target variable is the postseason variable, which represents where the team finished in the tournament. 0 refers to the champions, 1 refers to the runner-up, 2 refers to those in the Final Four, 3 refers to those in the Elite Eight, 4 refers to those that made it to the round of 16, 5 represents those up to the round of 32, 6 represents up to the round of 64, 7 represents up to the round of 68 (there are 4 elimination games played. All the teams that do not partake in the tournament have a NA value in the postseason column. \n"
   ]
  },
  {
   "cell_type": "markdown",
   "metadata": {},
   "source": [
    "### 2.3. Data Analysis\n",
    "\n",
    "**Predictive Model**\n",
    "\n",
    "We are seeking a single value for the target from 0-7 that represents where the team will finish in the tournament based on the team's overall statistics from the regular season. Given the 20 different feature variables, we will predict a single outcome value that will represent the team's final rank and crown a winner for the 2020 tournament.\n",
    "\n",
    "**A Supervised Learning Problem**\n",
    "\n",
    "This is a supervised machine learning problem, utlizing classification algorithms. We will be using the K-Nearest Neighbor, Support Vector Machine, Gaussian Naive Bayes, and Decision Tree classifiers. \n",
    "\n",
    "**Rationale**\n",
    "\n",
    "* K-Nearest Neighbor: The KNN classifier finds the average of the closest k data points to a class grouping of data points. \n",
    "\n",
    "* Support Vector Machine: The SVC looks to find a hyperplane that can distinctly classify the data points and maximize the margin between the data points and the hyperplane. \n",
    "\n",
    "* Gaussian Naive Bayes: The Naive Bayes classifier assumes that each feature on the datasets hold equal importance. This model may not be as effective because some statistics will have greater importance than others.\n",
    "\n",
    "* Decision Tree: The decision tree classifier learns a series of if/else questions that ask all of the possible questions to find the one that is most important to the target variable"
   ]
  },
  {
   "cell_type": "markdown",
   "metadata": {},
   "source": [
    "## 3. RESULTS\n"
   ]
  },
  {
   "cell_type": "markdown",
   "metadata": {},
   "source": [
    "###  3.1. Data Wrangling"
   ]
  },
  {
   "cell_type": "markdown",
   "metadata": {},
   "source": [
    "#####  Import Data"
   ]
  },
  {
   "cell_type": "code",
   "execution_count": 1,
   "metadata": {},
   "outputs": [],
   "source": [
    "import pandas as pd\n",
    "\n",
    "url_train = 'https://raw.githubusercontent.com/danielchun321/ds3000project/master/cbb%2015-18.csv'\n",
    "url_test = 'https://raw.githubusercontent.com/danielchun321/ds3000project/master/cbb19.csv'\n",
    "\n",
    "train_data = pd.read_csv(url_train)\n",
    "test_data = pd.read_csv(url_test)\n",
    "\n",
    "combined_data = train_data.append(test_data)\n"
   ]
  },
  {
   "cell_type": "markdown",
   "metadata": {},
   "source": [
    "####   Split testing / training data & Clean Data"
   ]
  },
  {
   "cell_type": "code",
   "execution_count": 2,
   "metadata": {},
   "outputs": [],
   "source": [
    "train_data = train_data.drop(\"TEAM\", axis = 1)\n",
    "train_data = train_data.drop(\"CONF\", axis = 1)\n",
    "\n",
    "\n",
    "test_data = test_data.drop(\"TEAM\", axis = 1)\n",
    "test_data = test_data.drop(\"CONF\", axis = 1)\n",
    "\n",
    "\n",
    "combined_data = combined_data.drop(\"TEAM\", axis = 1)\n",
    "combined_data = combined_data.drop(\"CONF\", axis = 1)\n"
   ]
  },
  {
   "cell_type": "code",
   "execution_count": 3,
   "metadata": {},
   "outputs": [],
   "source": [
    "train_data.fillna(8, inplace=True)\n",
    "test_data.fillna(8, inplace=True)\n",
    "combined_data.fillna(8, inplace=True)"
   ]
  },
  {
   "cell_type": "code",
   "execution_count": 5,
   "metadata": {},
   "outputs": [
    {
     "data": {
      "text/html": [
       "<div>\n",
       "<style scoped>\n",
       "    .dataframe tbody tr th:only-of-type {\n",
       "        vertical-align: middle;\n",
       "    }\n",
       "\n",
       "    .dataframe tbody tr th {\n",
       "        vertical-align: top;\n",
       "    }\n",
       "\n",
       "    .dataframe thead th {\n",
       "        text-align: right;\n",
       "    }\n",
       "</style>\n",
       "<table border=\"1\" class=\"dataframe\">\n",
       "  <thead>\n",
       "    <tr style=\"text-align: right;\">\n",
       "      <th></th>\n",
       "      <th>G</th>\n",
       "      <th>W</th>\n",
       "      <th>ADJOE</th>\n",
       "      <th>ADJDE</th>\n",
       "      <th>BARTHAG</th>\n",
       "      <th>EFG_O</th>\n",
       "      <th>EFG_D</th>\n",
       "      <th>TOR</th>\n",
       "      <th>TORD</th>\n",
       "      <th>ORB</th>\n",
       "      <th>DRB</th>\n",
       "      <th>FTR</th>\n",
       "      <th>FTRD</th>\n",
       "      <th>2P_O</th>\n",
       "      <th>2P_D</th>\n",
       "      <th>3P_O</th>\n",
       "      <th>3P_D</th>\n",
       "      <th>ADJ_T</th>\n",
       "      <th>WAB</th>\n",
       "      <th>target</th>\n",
       "    </tr>\n",
       "  </thead>\n",
       "  <tbody>\n",
       "    <tr>\n",
       "      <th>0</th>\n",
       "      <td>40</td>\n",
       "      <td>36</td>\n",
       "      <td>129.1</td>\n",
       "      <td>93.6</td>\n",
       "      <td>0.9758</td>\n",
       "      <td>54.8</td>\n",
       "      <td>47.7</td>\n",
       "      <td>12.4</td>\n",
       "      <td>15.8</td>\n",
       "      <td>32.1</td>\n",
       "      <td>23.7</td>\n",
       "      <td>36.2</td>\n",
       "      <td>22.4</td>\n",
       "      <td>54.8</td>\n",
       "      <td>44.7</td>\n",
       "      <td>36.5</td>\n",
       "      <td>37.5</td>\n",
       "      <td>59.3</td>\n",
       "      <td>11.3</td>\n",
       "      <td>1.0</td>\n",
       "    </tr>\n",
       "    <tr>\n",
       "      <th>1</th>\n",
       "      <td>40</td>\n",
       "      <td>33</td>\n",
       "      <td>123.3</td>\n",
       "      <td>94.9</td>\n",
       "      <td>0.9531</td>\n",
       "      <td>52.6</td>\n",
       "      <td>48.1</td>\n",
       "      <td>15.4</td>\n",
       "      <td>18.2</td>\n",
       "      <td>40.7</td>\n",
       "      <td>30.0</td>\n",
       "      <td>32.3</td>\n",
       "      <td>30.4</td>\n",
       "      <td>53.9</td>\n",
       "      <td>44.6</td>\n",
       "      <td>32.7</td>\n",
       "      <td>36.2</td>\n",
       "      <td>71.7</td>\n",
       "      <td>8.6</td>\n",
       "      <td>1.0</td>\n",
       "    </tr>\n",
       "    <tr>\n",
       "      <th>2</th>\n",
       "      <td>39</td>\n",
       "      <td>37</td>\n",
       "      <td>117.8</td>\n",
       "      <td>86.3</td>\n",
       "      <td>0.9728</td>\n",
       "      <td>56.6</td>\n",
       "      <td>41.1</td>\n",
       "      <td>16.2</td>\n",
       "      <td>17.1</td>\n",
       "      <td>30.0</td>\n",
       "      <td>26.2</td>\n",
       "      <td>39.0</td>\n",
       "      <td>26.9</td>\n",
       "      <td>56.3</td>\n",
       "      <td>40.0</td>\n",
       "      <td>38.2</td>\n",
       "      <td>29.0</td>\n",
       "      <td>71.5</td>\n",
       "      <td>7.7</td>\n",
       "      <td>1.0</td>\n",
       "    </tr>\n",
       "    <tr>\n",
       "      <th>3</th>\n",
       "      <td>40</td>\n",
       "      <td>33</td>\n",
       "      <td>114.4</td>\n",
       "      <td>90.4</td>\n",
       "      <td>0.9375</td>\n",
       "      <td>53.9</td>\n",
       "      <td>47.7</td>\n",
       "      <td>14.0</td>\n",
       "      <td>19.5</td>\n",
       "      <td>25.5</td>\n",
       "      <td>24.9</td>\n",
       "      <td>30.7</td>\n",
       "      <td>30.0</td>\n",
       "      <td>54.7</td>\n",
       "      <td>46.8</td>\n",
       "      <td>35.2</td>\n",
       "      <td>33.2</td>\n",
       "      <td>65.9</td>\n",
       "      <td>6.9</td>\n",
       "      <td>1.0</td>\n",
       "    </tr>\n",
       "    <tr>\n",
       "      <th>4</th>\n",
       "      <td>39</td>\n",
       "      <td>35</td>\n",
       "      <td>125.2</td>\n",
       "      <td>90.6</td>\n",
       "      <td>0.9764</td>\n",
       "      <td>56.6</td>\n",
       "      <td>46.5</td>\n",
       "      <td>16.3</td>\n",
       "      <td>18.6</td>\n",
       "      <td>35.8</td>\n",
       "      <td>30.2</td>\n",
       "      <td>39.8</td>\n",
       "      <td>23.9</td>\n",
       "      <td>55.9</td>\n",
       "      <td>46.3</td>\n",
       "      <td>38.7</td>\n",
       "      <td>31.4</td>\n",
       "      <td>66.4</td>\n",
       "      <td>10.7</td>\n",
       "      <td>0.0</td>\n",
       "    </tr>\n",
       "  </tbody>\n",
       "</table>\n",
       "</div>"
      ],
      "text/plain": [
       "    G   W  ADJOE  ADJDE  BARTHAG  EFG_O  EFG_D   TOR  TORD   ORB   DRB   FTR  \\\n",
       "0  40  36  129.1   93.6   0.9758   54.8   47.7  12.4  15.8  32.1  23.7  36.2   \n",
       "1  40  33  123.3   94.9   0.9531   52.6   48.1  15.4  18.2  40.7  30.0  32.3   \n",
       "2  39  37  117.8   86.3   0.9728   56.6   41.1  16.2  17.1  30.0  26.2  39.0   \n",
       "3  40  33  114.4   90.4   0.9375   53.9   47.7  14.0  19.5  25.5  24.9  30.7   \n",
       "4  39  35  125.2   90.6   0.9764   56.6   46.5  16.3  18.6  35.8  30.2  39.8   \n",
       "\n",
       "   FTRD  2P_O  2P_D  3P_O  3P_D  ADJ_T   WAB  target  \n",
       "0  22.4  54.8  44.7  36.5  37.5   59.3  11.3     1.0  \n",
       "1  30.4  53.9  44.6  32.7  36.2   71.7   8.6     1.0  \n",
       "2  26.9  56.3  40.0  38.2  29.0   71.5   7.7     1.0  \n",
       "3  30.0  54.7  46.8  35.2  33.2   65.9   6.9     1.0  \n",
       "4  23.9  55.9  46.3  38.7  31.4   66.4  10.7     0.0  "
      ]
     },
     "execution_count": 5,
     "metadata": {},
     "output_type": "execute_result"
    }
   ],
   "source": [
    "train_data.head()"
   ]
  },
  {
   "cell_type": "markdown",
   "metadata": {},
   "source": [
    "####   Extract Feature and Target Vars -*training testing set selection*- (NO test_train_split necessary)"
   ]
  },
  {
   "cell_type": "code",
   "execution_count": 4,
   "metadata": {},
   "outputs": [],
   "source": [
    "from sklearn.model_selection import train_test_split\n",
    "\n",
    "X_train = train_data.drop(\"target\", axis = 1)\n",
    "y_train = train_data[\"target\"]\n",
    "\n",
    "X_test = test_data.drop(\"target\", axis = 1)\n",
    "y_test = test_data[\"target\"]\n",
    "\n",
    "features = combined_data.drop('target', axis = 1)\n",
    "target = combined_data['target']\n",
    "\n"
   ]
  },
  {
   "cell_type": "markdown",
   "metadata": {},
   "source": [
    "####   Preprocessing"
   ]
  },
  {
   "cell_type": "code",
   "execution_count": 21,
   "metadata": {},
   "outputs": [],
   "source": [
    "import numpy as np\n",
    "from sklearn.svm import LinearSVC\n",
    "from sklearn.naive_bayes import GaussianNB\n",
    "from sklearn.neighbors import KNeighborsClassifier\n",
    "from sklearn.tree import DecisionTreeClassifier\n",
    "from sklearn.preprocessing import MinMaxScaler\n",
    "from sklearn import metrics\n",
    "from sklearn.model_selection import KFold\n",
    "from sklearn.model_selection import cross_val_score\n",
    "from sklearn.metrics import confusion_matrix\n",
    "from sklearn.metrics import classification_report\n"
   ]
  },
  {
   "cell_type": "code",
   "execution_count": 6,
   "metadata": {},
   "outputs": [],
   "source": [
    "scaler = MinMaxScaler()\n",
    "\n",
    "def preprocessor(X_train, X_test):\n",
    "    scaler = MinMaxScaler().fit(X_train)\n",
    "    \n",
    "    #scale testing and training sets\n",
    "    X_train_scaled = scaler.transform(X_train)\n",
    "    X_test_scaled = scaler.transform(X_test)\n",
    "\n",
    "    return X_train_scaled, X_test_scaled\n"
   ]
  },
  {
   "cell_type": "code",
   "execution_count": 7,
   "metadata": {},
   "outputs": [],
   "source": [
    "X_train_scaled, X_test_scaled = preprocessor(X_train, X_test)"
   ]
  },
  {
   "cell_type": "markdown",
   "metadata": {},
   "source": [
    "####   Feature Selection"
   ]
  },
  {
   "cell_type": "code",
   "execution_count": 8,
   "metadata": {},
   "outputs": [],
   "source": [
    "from sklearn.feature_selection import SelectFromModel\n",
    "from sklearn.tree import DecisionTreeRegressor\n",
    "from sklearn.svm import LinearSVC\n",
    "\n",
    "\n",
    "def model_based_selection(X_train_scaled, X_test_scaled):\n",
    "    \n",
    "    select = SelectFromModel(DecisionTreeRegressor(random_state = 3000), threshold = \"median\") #Selects top 50% best features\n",
    "    \n",
    "    select.fit(X_train, y_train)\n",
    "\n",
    "    X_train_selected = select.transform(X_train_scaled)\n",
    "    X_test_selected = select.transform(X_test_scaled)\n",
    "    \n",
    "    model = LinearSVC().fit(X = X_train_selected, y = y_train)\n",
    "    \n",
    "    print(\"Selected Features using Model Based Method:\")\n",
    "    column_select = select.get_support(indices = True)\n",
    "    column_keep = X_train.columns[column_select]\n",
    "    for ii in column_keep:\n",
    "        print(\"\\t\",ii)\n",
    "    \n",
    "    return X_train_selected, X_test_selected\n",
    "                                   \n",
    "    "
   ]
  },
  {
   "cell_type": "code",
   "execution_count": 9,
   "metadata": {},
   "outputs": [
    {
     "name": "stdout",
     "output_type": "stream",
     "text": [
      "Selected Features using Model Based Method:\n",
      "\t G\n",
      "\t W\n",
      "\t BARTHAG\n",
      "\t EFG_O\n",
      "\t TORD\n",
      "\t DRB\n",
      "\t FTRD\n",
      "\t 3P_O\n",
      "\t 3P_D\n",
      "\t WAB\n"
     ]
    }
   ],
   "source": [
    "X_train_selected, X_test_selected = model_based_selection(X_train_scaled, X_test_scaled)"
   ]
  },
  {
   "cell_type": "markdown",
   "metadata": {},
   "source": [
    "###  3.2 Data Exploration"
   ]
  },
  {
   "cell_type": "code",
   "execution_count": 10,
   "metadata": {},
   "outputs": [
    {
     "data": {
      "image/png": "[encoded data removed]",
      "text/plain": [
       "<Figure size 720x432 with 1 Axes>"
      ]
     },
     "metadata": {
      "needs_background": "light"
     },
     "output_type": "display_data"
    }
   ],
   "source": [
    "import matplotlib.pyplot as plt\n",
    "import seaborn as sns\n",
    "\n",
    "# set color in new column 'val' , red if the team is a past champion, blue if any other team\n",
    "train_data[\"val\"] = train_data['target'].apply(lambda x: \"red\" if x==0 else \"blue\")\n",
    "sns.lmplot('2P_D', '3P_D', data = train_data, hue='val', fit_reg=False, legend = False)\n",
    "fig = plt.gcf()\n",
    "fig.set_size_inches(10, 6)\n",
    "plt.title('2 Point Field Goals Allowed vs 3 Point Field Goals Allowed')\n",
    "plt.show()"
   ]
  },
  {
   "cell_type": "code",
   "execution_count": 11,
   "metadata": {},
   "outputs": [
    {
     "data": {
      "image/png": "[encoded data removed]",
      "text/plain": [
       "<Figure size 720x432 with 1 Axes>"
      ]
     },
     "metadata": {
      "needs_background": "light"
     },
     "output_type": "display_data"
    }
   ],
   "source": [
    "sns.lmplot('ADJDE', 'EFG_D', data = train_data, hue='val', fit_reg=False, legend = False)\n",
    "fig = plt.gcf()\n",
    "fig.set_size_inches(10, 6)\n",
    "plt.title('Adjusted Defensive Efficiency vs Effective Field Goal Percentage Allowed')\n",
    "plt.show()"
   ]
  },
  {
   "cell_type": "code",
   "execution_count": 12,
   "metadata": {},
   "outputs": [
    {
     "data": {
      "image/png": "[encoded data removed]",
      "text/plain": [
       "<Figure size 720x432 with 1 Axes>"
      ]
     },
     "metadata": {
      "needs_background": "light"
     },
     "output_type": "display_data"
    }
   ],
   "source": [
    "sns.lmplot('BARTHAG', 'WAB', data = train_data, hue='val', fit_reg=False, legend = False)\n",
    "fig = plt.gcf()\n",
    "fig.set_size_inches(10, 6)\n",
    "plt.title('Power Rating vs Wins Above Bubble')\n",
    "plt.show()"
   ]
  },
  {
   "cell_type": "markdown",
   "metadata": {},
   "source": [
    "For all three visualizations, the orange plots represent the champions for the four years in the training set. \n",
    "\n",
    "In the first visualization (2 Point Field Goals Allowed vs 3 Point Field Goals Allowed), it is evident that a team's defensive standing has some relevance to winning the championship. Although there are teams that performed better defensively, the past champions were both above average in defensive field goals allowed. \n",
    "\n",
    "The second visualization takes a deeper look at the team's defensive stats, comparing the adjusted defensive efficiency and effective field goal percentage allowed. There is a strong correlation with having lower values in these two statistics (less is better for defensive purposes).\n",
    "\n",
    "The final visualization compares the BARTHAG with the WAB (wins above bubble) stat. The BARTHAG stat is an estimate of a team's chances of winning against another Division 1 team, and the WAB stat takes an average \"bubble\" team and sees their chances of winning against higher or lower tier teams, based on percentages. It is evident that a high value in these two stats have a strong correlation to performance in the tournament, as it takes a team's ability to beat better teams. "
   ]
  },
  {
   "cell_type": "markdown",
   "metadata": {},
   "source": [
    "###  3.3 Model Construction"
   ]
  },
  {
   "cell_type": "markdown",
   "metadata": {},
   "source": [
    "####   Machine Learning "
   ]
  },
  {
   "cell_type": "code",
   "execution_count": 13,
   "metadata": {},
   "outputs": [],
   "source": [
    "estimators = {\n",
    "        'K-Nearest Neighbor': KNeighborsClassifier(),\n",
    "        'Support Vector Machine': LinearSVC(max_iter = 1000000),\n",
    "        'Gaussina Naive Bayes': GaussianNB(),\n",
    "        'Decision Tree': DecisionTreeClassifier()}"
   ]
  },
  {
   "cell_type": "code",
   "execution_count": 14,
   "metadata": {},
   "outputs": [],
   "source": [
    "def classifiers_percentage_split_nonscaled():\n",
    "    print(\"WITHOUT SCALING\")\n",
    "    print(\"___________________________________________\")\n",
    "    print(\"\\n\")\n",
    "    #iterates through the dictionary\n",
    "    for estimator_name, estimator_object in estimators.items():\n",
    "        \n",
    "        \n",
    "        #create the model by fitting the training data\n",
    "        estimator_object.fit(X=X_train, y=y_train)\n",
    "\n",
    "        #make predictions on the test set\n",
    "        predicted = estimator_object.predict(X=X_test)\n",
    "        \n",
    "        #computes accuracy of model using percentage-split\n",
    "        accuracy = estimator_object.score(X_test, y_test)\n",
    "        #formats the output\n",
    "        print(estimator_name + \": \\n\\t\" + f'prediction accuracy on the test data accuracy: {accuracy:.2%}' +\"\\n\")\n",
    "    return \"Done\""
   ]
  },
  {
   "cell_type": "code",
   "execution_count": 15,
   "metadata": {},
   "outputs": [],
   "source": [
    "\n",
    "def classifiers_percentage_split_Scaled():\n",
    "\n",
    "#Scaled    \n",
    "    print(\"WITH SCALING\")\n",
    "    print(\"___________________________________________\")   \n",
    "    print(\"\\n\")\n",
    "    for estimator_name, estimator_object in estimators.items():\n",
    "        \n",
    "        \n",
    "        #create the model by fitting the training data\n",
    "        estimator_object.fit(X=X_train_scaled, y=y_train)\n",
    "\n",
    "        #make predictions on the test set\n",
    "        predicted = estimator_object.predict(X=X_test_scaled)\n",
    "        \n",
    "        #computes accuracy of model using percentage-split\n",
    "        accuracy = estimator_object.score(X_test_scaled, y_test)\n",
    "        #formats the output\n",
    "        print(estimator_name + \": \\n\\t\" + f'prediction accuracy on the test data accuracy: {accuracy:.2%}' +\"\\n\")\n",
    "    return \"Done\"\n",
    "        "
   ]
  },
  {
   "cell_type": "code",
   "execution_count": 16,
   "metadata": {},
   "outputs": [],
   "source": [
    "def feature_selected():\n",
    "    \n",
    "    print(\"ALL FEATURES USED\")\n",
    "    print(\"___________________________________________\")\n",
    "    print(\"\\n\")    \n",
    "    for estimator_name, estimator_object in estimators.items():\n",
    "        \n",
    "        \n",
    "        #create the model by fitting the training data\n",
    "        estimator_object.fit(X=X_train_scaled, y=y_train)\n",
    "\n",
    "        #make predictions on the test set\n",
    "        predicted = estimator_object.predict(X=X_test_scaled)\n",
    "        \n",
    "        #computes accuracy of model using percentage-split\n",
    "        accuracy = estimator_object.score(X_test_scaled, y_test)\n",
    "        #formats the output\n",
    "        print(estimator_name + \": \\n\\t\" + f'prediction accuracy on the test data accuracy: {accuracy:.2%}' +\"\\n\")\n",
    "    print(\"\\n\")   \n",
    "    print(\"___________________________________________\")\n",
    "    X_train_selected, X_test_selected = model_based_selection(X_train_scaled, X_test_scaled)\n",
    "    print(\"___________________________________________\")\n",
    "    print(\"\\n\")\n",
    "    for estimator_name, estimator_object in estimators.items():\n",
    "        \n",
    "        \n",
    "        #create the model by fitting the training data\n",
    "        estimator_object.fit(X=X_train_selected, y=y_train)\n",
    "\n",
    "        #make predictions on the test set\n",
    "        predicted = estimator_object.predict(X=X_test_selected)\n",
    "        \n",
    "        #computes accuracy of model using percentage-split\n",
    "        accuracy = estimator_object.score(X_test_selected, y_test)\n",
    "        #formats the output\n",
    "        print(estimator_name + \": \\n\\t\" + f'prediction accuracy on the test data accuracy: {accuracy:.2%}' +\"\\n\")\n",
    "        \n",
    "    return \"Done\"\n",
    "    \n",
    "    \n",
    "    "
   ]
  },
  {
   "cell_type": "code",
   "execution_count": 17,
   "metadata": {},
   "outputs": [],
   "source": [
    "#Cross-Validation Testing\n",
    "\n",
    "def classifiers_cross_val():\n",
    "    print(\"CROSS VAL SCORE\")\n",
    "    print(\"___________________________________________\")\n",
    "    print(\"\\n\")   \n",
    "    \n",
    "    for estimator_name, estimator_object in estimators.items():\n",
    "        kfold = KFold(n_splits=10, random_state=3000, shuffle=True)\n",
    "    \n",
    "        scores = cross_val_score(estimator=estimator_object, X=features, y=target, cv=kfold)\n",
    "    \n",
    "        print(estimator_name + \": \\n\\t\" + f'mean accuracy={scores.mean():.2%}, ' + f'standard deviation={scores.std():.2%}' +\"\\n\")\n",
    "        \n",
    "    return \"Done\""
   ]
  },
  {
   "cell_type": "code",
   "execution_count": 45,
   "metadata": {},
   "outputs": [
    {
     "name": "stdout",
     "output_type": "stream",
     "text": [
      "WITHOUT SCALING\n",
      "___________________________________________\n",
      "\n",
      "\n",
      "K-Nearest Neighbor: \n",
      "\tprediction accuracy on the test data accuracy: 82.15%\n",
      "\n",
      "Support Vector Machine: \n",
      "\tprediction accuracy on the test data accuracy: 82.72%\n",
      "\n",
      "Gaussina Naive Bayes: \n",
      "\tprediction accuracy on the test data accuracy: 75.35%\n",
      "\n",
      "Decision Tree: \n",
      "\tprediction accuracy on the test data accuracy: 79.60%\n",
      "\n"
     ]
    },
    {
     "name": "stderr",
     "output_type": "stream",
     "text": [
      "C:\\Users\\georg\\anaconda3\\lib\\site-packages\\sklearn\\svm\\_base.py:947: ConvergenceWarning: Liblinear failed to converge, increase the number of iterations.\n",
      "  \"the number of iterations.\", ConvergenceWarning)\n"
     ]
    },
    {
     "data": {
      "text/plain": [
       "'Done'"
      ]
     },
     "execution_count": 45,
     "metadata": {},
     "output_type": "execute_result"
    }
   ],
   "source": [
    "classifiers_percentage_split_nonscaled()"
   ]
  },
  {
   "cell_type": "code",
   "execution_count": 24,
   "metadata": {},
   "outputs": [
    {
     "name": "stdout",
     "output_type": "stream",
     "text": [
      "WITH SCALING\n",
      "___________________________________________\n",
      "\n",
      "\n",
      "K-Nearest Neighbor: \n",
      "\tprediction accuracy on the test data accuracy: 82.72%\n",
      "\n",
      "Support Vector Machine: \n",
      "\tprediction accuracy on the test data accuracy: 81.87%\n",
      "\n",
      "Gaussina Naive Bayes: \n",
      "\tprediction accuracy on the test data accuracy: 75.35%\n",
      "\n",
      "Decision Tree: \n",
      "\tprediction accuracy on the test data accuracy: 79.89%\n",
      "\n"
     ]
    },
    {
     "data": {
      "text/plain": [
       "'Done'"
      ]
     },
     "execution_count": 24,
     "metadata": {},
     "output_type": "execute_result"
    }
   ],
   "source": [
    "classifiers_percentage_split_Scaled()"
   ]
  },
  {
   "cell_type": "code",
   "execution_count": 25,
   "metadata": {},
   "outputs": [],
   "source": [
    "#scaled yields better results"
   ]
  },
  {
   "cell_type": "code",
   "execution_count": 27,
   "metadata": {
    "scrolled": false
   },
   "outputs": [
    {
     "name": "stdout",
     "output_type": "stream",
     "text": [
      "ALL FEATURES USED\n",
      "___________________________________________\n",
      "\n",
      "\n",
      "K-Nearest Neighbor: \n",
      "\tprediction accuracy on the test data accuracy: 82.72%\n",
      "\n",
      "Support Vector Machine: \n",
      "\tprediction accuracy on the test data accuracy: 81.87%\n",
      "\n",
      "Gaussina Naive Bayes: \n",
      "\tprediction accuracy on the test data accuracy: 75.35%\n",
      "\n",
      "Decision Tree: \n",
      "\tprediction accuracy on the test data accuracy: 80.74%\n",
      "\n",
      "\n",
      "\n",
      "___________________________________________\n",
      "Selected Features using Model Based Method:\n",
      "\t G\n",
      "\t W\n",
      "\t BARTHAG\n",
      "\t EFG_O\n",
      "\t TORD\n",
      "\t DRB\n",
      "\t FTRD\n",
      "\t 3P_O\n",
      "\t 3P_D\n",
      "\t WAB\n",
      "___________________________________________\n",
      "\n",
      "\n",
      "K-Nearest Neighbor: \n",
      "\tprediction accuracy on the test data accuracy: 81.02%\n",
      "\n",
      "Support Vector Machine: \n",
      "\tprediction accuracy on the test data accuracy: 82.15%\n",
      "\n",
      "Gaussina Naive Bayes: \n",
      "\tprediction accuracy on the test data accuracy: 75.35%\n",
      "\n",
      "Decision Tree: \n",
      "\tprediction accuracy on the test data accuracy: 77.90%\n",
      "\n"
     ]
    },
    {
     "data": {
      "text/plain": [
       "'Done'"
      ]
     },
     "execution_count": 27,
     "metadata": {},
     "output_type": "execute_result"
    }
   ],
   "source": [
    "feature_selected()"
   ]
  },
  {
   "cell_type": "code",
   "execution_count": null,
   "metadata": {},
   "outputs": [
    {
     "name": "stdout",
     "output_type": "stream",
     "text": [
      "CROSS VAL SCORE\n",
      "___________________________________________\n",
      "\n",
      "\n",
      "K-Nearest Neighbor: \n",
      "\tmean accuracy=82.24%, standard deviation=1.90%\n",
      "\n"
     ]
    }
   ],
   "source": [
    "classifiers_cross_val()"
   ]
  },
  {
   "cell_type": "code",
   "execution_count": 22,
   "metadata": {},
   "outputs": [
    {
     "data": {
      "text/html": [
       "<div>\n",
       "<style scoped>\n",
       "    .dataframe tbody tr th:only-of-type {\n",
       "        vertical-align: middle;\n",
       "    }\n",
       "\n",
       "    .dataframe tbody tr th {\n",
       "        vertical-align: top;\n",
       "    }\n",
       "\n",
       "    .dataframe thead th {\n",
       "        text-align: right;\n",
       "    }\n",
       "</style>\n",
       "<table border=\"1\" class=\"dataframe\">\n",
       "  <thead>\n",
       "    <tr style=\"text-align: right;\">\n",
       "      <th></th>\n",
       "      <th>0</th>\n",
       "      <th>1</th>\n",
       "      <th>2</th>\n",
       "      <th>3</th>\n",
       "      <th>4</th>\n",
       "      <th>5</th>\n",
       "      <th>6</th>\n",
       "      <th>7</th>\n",
       "      <th>8</th>\n",
       "    </tr>\n",
       "  </thead>\n",
       "  <tbody>\n",
       "    <tr>\n",
       "      <th>0</th>\n",
       "      <td>1</td>\n",
       "      <td>0</td>\n",
       "      <td>0</td>\n",
       "      <td>0</td>\n",
       "      <td>0</td>\n",
       "      <td>0</td>\n",
       "      <td>0</td>\n",
       "      <td>0</td>\n",
       "      <td>0</td>\n",
       "    </tr>\n",
       "    <tr>\n",
       "      <th>1</th>\n",
       "      <td>0</td>\n",
       "      <td>0</td>\n",
       "      <td>0</td>\n",
       "      <td>1</td>\n",
       "      <td>0</td>\n",
       "      <td>0</td>\n",
       "      <td>0</td>\n",
       "      <td>0</td>\n",
       "      <td>0</td>\n",
       "    </tr>\n",
       "    <tr>\n",
       "      <th>2</th>\n",
       "      <td>0</td>\n",
       "      <td>0</td>\n",
       "      <td>0</td>\n",
       "      <td>1</td>\n",
       "      <td>1</td>\n",
       "      <td>0</td>\n",
       "      <td>0</td>\n",
       "      <td>0</td>\n",
       "      <td>0</td>\n",
       "    </tr>\n",
       "    <tr>\n",
       "      <th>3</th>\n",
       "      <td>2</td>\n",
       "      <td>0</td>\n",
       "      <td>0</td>\n",
       "      <td>0</td>\n",
       "      <td>1</td>\n",
       "      <td>1</td>\n",
       "      <td>0</td>\n",
       "      <td>0</td>\n",
       "      <td>0</td>\n",
       "    </tr>\n",
       "    <tr>\n",
       "      <th>4</th>\n",
       "      <td>0</td>\n",
       "      <td>0</td>\n",
       "      <td>0</td>\n",
       "      <td>2</td>\n",
       "      <td>2</td>\n",
       "      <td>4</td>\n",
       "      <td>0</td>\n",
       "      <td>0</td>\n",
       "      <td>0</td>\n",
       "    </tr>\n",
       "    <tr>\n",
       "      <th>5</th>\n",
       "      <td>0</td>\n",
       "      <td>0</td>\n",
       "      <td>1</td>\n",
       "      <td>1</td>\n",
       "      <td>2</td>\n",
       "      <td>3</td>\n",
       "      <td>6</td>\n",
       "      <td>0</td>\n",
       "      <td>3</td>\n",
       "    </tr>\n",
       "    <tr>\n",
       "      <th>6</th>\n",
       "      <td>0</td>\n",
       "      <td>0</td>\n",
       "      <td>0</td>\n",
       "      <td>0</td>\n",
       "      <td>2</td>\n",
       "      <td>5</td>\n",
       "      <td>9</td>\n",
       "      <td>0</td>\n",
       "      <td>16</td>\n",
       "    </tr>\n",
       "    <tr>\n",
       "      <th>7</th>\n",
       "      <td>0</td>\n",
       "      <td>0</td>\n",
       "      <td>0</td>\n",
       "      <td>0</td>\n",
       "      <td>0</td>\n",
       "      <td>1</td>\n",
       "      <td>0</td>\n",
       "      <td>0</td>\n",
       "      <td>3</td>\n",
       "    </tr>\n",
       "    <tr>\n",
       "      <th>8</th>\n",
       "      <td>0</td>\n",
       "      <td>0</td>\n",
       "      <td>0</td>\n",
       "      <td>0</td>\n",
       "      <td>0</td>\n",
       "      <td>1</td>\n",
       "      <td>9</td>\n",
       "      <td>0</td>\n",
       "      <td>275</td>\n",
       "    </tr>\n",
       "  </tbody>\n",
       "</table>\n",
       "</div>"
      ],
      "text/plain": [
       "   0  1  2  3  4  5  6  7    8\n",
       "0  1  0  0  0  0  0  0  0    0\n",
       "1  0  0  0  1  0  0  0  0    0\n",
       "2  0  0  0  1  1  0  0  0    0\n",
       "3  2  0  0  0  1  1  0  0    0\n",
       "4  0  0  0  2  2  4  0  0    0\n",
       "5  0  0  1  1  2  3  6  0    3\n",
       "6  0  0  0  0  2  5  9  0   16\n",
       "7  0  0  0  0  0  1  0  0    3\n",
       "8  0  0  0  0  0  1  9  0  275"
      ]
     },
     "execution_count": 22,
     "metadata": {},
     "output_type": "execute_result"
    }
   ],
   "source": [
    "#Confusion Matrix for K-Nearest\n",
    "\n",
    "#select a classifier\n",
    "knn = KNeighborsClassifier()\n",
    "\n",
    "#create the model by fitting the training data\n",
    "knn.fit(X=X_train, y=y_train)\n",
    "\n",
    "#make predictions on the test set\n",
    "predicted = knn.predict(X=X_test)\n",
    "\n",
    "expected = y_test\n",
    "\n",
    "#prediction accuracy\n",
    "accuracy = knn.score(X_test, y_test)\n",
    "\n",
    "#initiates confusion matrix\n",
    "confusion = confusion_matrix(y_true=expected, y_pred=predicted)\n",
    "\n",
    "\n",
    "\n",
    "confusion_df = pd.DataFrame(confusion)\n",
    "confusion_df"
   ]
  },
  {
   "cell_type": "code",
   "execution_count": 23,
   "metadata": {},
   "outputs": [
    {
     "name": "stdout",
     "output_type": "stream",
     "text": [
      "              precision    recall  f1-score   support\n",
      "\n",
      "         0.0       0.33      1.00      0.50         1\n",
      "         1.0       0.00      0.00      0.00         1\n",
      "         2.0       0.00      0.00      0.00         2\n",
      "         3.0       0.00      0.00      0.00         4\n",
      "         4.0       0.25      0.25      0.25         8\n",
      "         5.0       0.20      0.19      0.19        16\n",
      "         6.0       0.38      0.28      0.32        32\n",
      "         7.0       0.00      0.00      0.00         4\n",
      "         8.0       0.93      0.96      0.95       285\n",
      "\n",
      "    accuracy                           0.82       353\n",
      "   macro avg       0.23      0.30      0.25       353\n",
      "weighted avg       0.80      0.82      0.81       353\n",
      "\n"
     ]
    },
    {
     "name": "stderr",
     "output_type": "stream",
     "text": [
      "/opt/anaconda3/lib/python3.7/site-packages/sklearn/metrics/_classification.py:1272: UndefinedMetricWarning: Precision and F-score are ill-defined and being set to 0.0 in labels with no predicted samples. Use `zero_division` parameter to control this behavior.\n",
      "  _warn_prf(average, modifier, msg_start, len(result))\n"
     ]
    }
   ],
   "source": [
    "class_report = classification_report(y_true=expected, y_pred=predicted)\n",
    "\n",
    "print(class_report)"
   ]
  },
  {
   "cell_type": "code",
   "execution_count": 24,
   "metadata": {},
   "outputs": [
    {
     "name": "stderr",
     "output_type": "stream",
     "text": [
      "/opt/anaconda3/lib/python3.7/site-packages/sklearn/svm/_base.py:947: ConvergenceWarning: Liblinear failed to converge, increase the number of iterations.\n",
      "  \"the number of iterations.\", ConvergenceWarning)\n"
     ]
    },
    {
     "data": {
      "text/html": [
       "<div>\n",
       "<style scoped>\n",
       "    .dataframe tbody tr th:only-of-type {\n",
       "        vertical-align: middle;\n",
       "    }\n",
       "\n",
       "    .dataframe tbody tr th {\n",
       "        vertical-align: top;\n",
       "    }\n",
       "\n",
       "    .dataframe thead th {\n",
       "        text-align: right;\n",
       "    }\n",
       "</style>\n",
       "<table border=\"1\" class=\"dataframe\">\n",
       "  <thead>\n",
       "    <tr style=\"text-align: right;\">\n",
       "      <th></th>\n",
       "      <th>0</th>\n",
       "      <th>1</th>\n",
       "      <th>2</th>\n",
       "      <th>3</th>\n",
       "      <th>4</th>\n",
       "      <th>5</th>\n",
       "      <th>6</th>\n",
       "      <th>7</th>\n",
       "      <th>8</th>\n",
       "    </tr>\n",
       "  </thead>\n",
       "  <tbody>\n",
       "    <tr>\n",
       "      <th>0</th>\n",
       "      <td>0</td>\n",
       "      <td>0</td>\n",
       "      <td>1</td>\n",
       "      <td>0</td>\n",
       "      <td>0</td>\n",
       "      <td>0</td>\n",
       "      <td>0</td>\n",
       "      <td>0</td>\n",
       "      <td>0</td>\n",
       "    </tr>\n",
       "    <tr>\n",
       "      <th>1</th>\n",
       "      <td>0</td>\n",
       "      <td>0</td>\n",
       "      <td>1</td>\n",
       "      <td>0</td>\n",
       "      <td>0</td>\n",
       "      <td>0</td>\n",
       "      <td>0</td>\n",
       "      <td>0</td>\n",
       "      <td>0</td>\n",
       "    </tr>\n",
       "    <tr>\n",
       "      <th>2</th>\n",
       "      <td>0</td>\n",
       "      <td>0</td>\n",
       "      <td>1</td>\n",
       "      <td>0</td>\n",
       "      <td>0</td>\n",
       "      <td>1</td>\n",
       "      <td>0</td>\n",
       "      <td>0</td>\n",
       "      <td>0</td>\n",
       "    </tr>\n",
       "    <tr>\n",
       "      <th>3</th>\n",
       "      <td>1</td>\n",
       "      <td>0</td>\n",
       "      <td>0</td>\n",
       "      <td>1</td>\n",
       "      <td>0</td>\n",
       "      <td>2</td>\n",
       "      <td>0</td>\n",
       "      <td>0</td>\n",
       "      <td>0</td>\n",
       "    </tr>\n",
       "    <tr>\n",
       "      <th>4</th>\n",
       "      <td>2</td>\n",
       "      <td>0</td>\n",
       "      <td>2</td>\n",
       "      <td>0</td>\n",
       "      <td>0</td>\n",
       "      <td>3</td>\n",
       "      <td>1</td>\n",
       "      <td>0</td>\n",
       "      <td>0</td>\n",
       "    </tr>\n",
       "    <tr>\n",
       "      <th>5</th>\n",
       "      <td>0</td>\n",
       "      <td>0</td>\n",
       "      <td>1</td>\n",
       "      <td>0</td>\n",
       "      <td>0</td>\n",
       "      <td>1</td>\n",
       "      <td>7</td>\n",
       "      <td>0</td>\n",
       "      <td>7</td>\n",
       "    </tr>\n",
       "    <tr>\n",
       "      <th>6</th>\n",
       "      <td>0</td>\n",
       "      <td>0</td>\n",
       "      <td>1</td>\n",
       "      <td>0</td>\n",
       "      <td>0</td>\n",
       "      <td>3</td>\n",
       "      <td>6</td>\n",
       "      <td>0</td>\n",
       "      <td>22</td>\n",
       "    </tr>\n",
       "    <tr>\n",
       "      <th>7</th>\n",
       "      <td>0</td>\n",
       "      <td>0</td>\n",
       "      <td>0</td>\n",
       "      <td>0</td>\n",
       "      <td>0</td>\n",
       "      <td>0</td>\n",
       "      <td>0</td>\n",
       "      <td>0</td>\n",
       "      <td>4</td>\n",
       "    </tr>\n",
       "    <tr>\n",
       "      <th>8</th>\n",
       "      <td>0</td>\n",
       "      <td>0</td>\n",
       "      <td>0</td>\n",
       "      <td>0</td>\n",
       "      <td>0</td>\n",
       "      <td>1</td>\n",
       "      <td>1</td>\n",
       "      <td>0</td>\n",
       "      <td>283</td>\n",
       "    </tr>\n",
       "  </tbody>\n",
       "</table>\n",
       "</div>"
      ],
      "text/plain": [
       "   0  1  2  3  4  5  6  7    8\n",
       "0  0  0  1  0  0  0  0  0    0\n",
       "1  0  0  1  0  0  0  0  0    0\n",
       "2  0  0  1  0  0  1  0  0    0\n",
       "3  1  0  0  1  0  2  0  0    0\n",
       "4  2  0  2  0  0  3  1  0    0\n",
       "5  0  0  1  0  0  1  7  0    7\n",
       "6  0  0  1  0  0  3  6  0   22\n",
       "7  0  0  0  0  0  0  0  0    4\n",
       "8  0  0  0  0  0  1  1  0  283"
      ]
     },
     "execution_count": 24,
     "metadata": {},
     "output_type": "execute_result"
    }
   ],
   "source": [
    "#select a classifier\n",
    "clf = LinearSVC(random_state=3000, max_iter=1000000)\n",
    "\n",
    "#create the model by fitting the training data\n",
    "clf.fit(X=X_train, y=y_train)\n",
    "\n",
    "\n",
    "predicted = clf.predict(X=X_test)\n",
    "\n",
    "expected = y_test\n",
    "\n",
    "confusion = confusion_matrix(y_true=expected, y_pred=predicted)\n",
    "\n",
    "\n",
    "\n",
    "confusion_df = pd.DataFrame(confusion)\n",
    "confusion_df"
   ]
  },
  {
   "cell_type": "code",
   "execution_count": 25,
   "metadata": {},
   "outputs": [
    {
     "name": "stdout",
     "output_type": "stream",
     "text": [
      "              precision    recall  f1-score   support\n",
      "\n",
      "         0.0       0.00      0.00      0.00         1\n",
      "         1.0       0.00      0.00      0.00         1\n",
      "         2.0       0.14      0.50      0.22         2\n",
      "         3.0       1.00      0.25      0.40         4\n",
      "         4.0       0.00      0.00      0.00         8\n",
      "         5.0       0.09      0.06      0.07        16\n",
      "         6.0       0.40      0.19      0.26        32\n",
      "         7.0       0.00      0.00      0.00         4\n",
      "         8.0       0.90      0.99      0.94       285\n",
      "\n",
      "    accuracy                           0.83       353\n",
      "   macro avg       0.28      0.22      0.21       353\n",
      "weighted avg       0.78      0.83      0.79       353\n",
      "\n"
     ]
    },
    {
     "name": "stderr",
     "output_type": "stream",
     "text": [
      "/opt/anaconda3/lib/python3.7/site-packages/sklearn/metrics/_classification.py:1272: UndefinedMetricWarning: Precision and F-score are ill-defined and being set to 0.0 in labels with no predicted samples. Use `zero_division` parameter to control this behavior.\n",
      "  _warn_prf(average, modifier, msg_start, len(result))\n"
     ]
    }
   ],
   "source": [
    "class_report = classification_report(y_true=expected, y_pred=predicted)\n",
    "\n",
    "print(class_report)"
   ]
  },
  {
   "cell_type": "markdown",
   "metadata": {},
   "source": [
    "###  3.4 Model Evaluation\n",
    "\n",
    "**Evaluating The Performance of Algorithms**\n",
    "        \n",
    "   The K-Nearest Neighbor and Support Vector Machine models performed the best when measured with a multitude of different metrics. K-Nearest, when measured utilizing a non-scaled percentage split method proved to provide a prediction accuracy of 82.15%. Support Vector on the same unscaled data performed with an accuracy of 82.72% which was the best accuracy of all the algorithms. When using scaled data the K-Nearest algorithm jumped to an accuracy of 82.72% but this saw our second best performing model, the Support Vector, slide down to 81.87%. This unscaled SVM model and the scaled K-Nearest model were our best performing models capping out at the accuracy of 82.72%. In an attempt to find a more accurate model we decided to utilize a feature selection function to apply our most relevant features. This resulted in K-Nearest and SVM coming in as our best performers, however both saw a drop off with their accuracies measuring to 81.02% and 82.15% respectively. \n",
    "        \n",
    "   Finally, we tested these models using a cross validation approach to ensure we were utilizing the most accurate model possible. These test result again provided the K-Nearest and SVM algorithms as the most accurate models with SVM being the most accurate at 82.81% and a standard deviation of 2.13% and K-Nearest resulting in a 82.24% accuracy and a 1.9% standard deviation. \n",
    "\n",
    "**Considering Hypotheses**\n",
    "\n",
    "   1. Features\n",
    "      * Null: The outcome of a team playing the tournament and a team's adjusted defensive efficiency stat has no correlation.\n",
    "      * Alternative: The outcome of a team playing the tournament and a team's adjusted defensive efficiency stat does not have a significant correlation.\n",
    "      * Explanation: Through our data processing and testing we found that we would reject the null hypothesis and that the outcome of a teams playing was no significantly correlated to their adjusted defensive efficiency stat. We uncovered this by applying feature selection on our dataset of all features and found that the adjusted defensive efficiency stat was not in the ten features selected. Resulting in us rejecting the null hypothesis. \n",
    "      \n",
    "    \n",
    "   2. Model Selection\n",
    "      * Null: The Support Vector Machine classifier will yield the best results for the model\n",
    "      * Alternative: The Support Vector Machine classifier will not yield the best results for the model.\n",
    "      * Explanation: Through our testing utilizing both cross validation testing and percentage split testing we found that we can accept the Null hypothesis with the Support Vector Machine classifier being one of our best performing models with a max accuracy of 82.81% mean accuracy and a standard deviation of 2.13% which was the highest accuracy level out of any classifier. \n",
    "    \n",
    "    \n",
    "   3. Feature Selection\n",
    "      * Null: Feature selection will lead to higher accuracy of the model\n",
    "      * Alternative: Feature selection will not lead to higher accuracy of the model\n",
    "      * Explanation: Through our testing with the percentage-split method we found that when implementing our model testing using the selected features we only saw an increase in the Support Vector Machines classifier with all other classifiers seeing either no change or lower accuracy. This resulted in us rejecting our null hypothesis as feature selection did not lead to significantly higher accuracy in the model as a whole.\n"
   ]
  },
  {
   "cell_type": "markdown",
   "metadata": {},
   "source": [
    "###  3.5 Model Optimization"
   ]
  },
  {
   "cell_type": "markdown",
   "metadata": {},
   "source": [
    "**Rationale Picking our best models**\n",
    "\n",
    "We decided on tuning our two best performing models as they performed on average at least 2%, and in some cases up to 5% better \n",
    "than the other model tests we ran. Even though KNN does not perform well with several features, we believe this issue was \n",
    "met with out feature selection function which mitigated this issue. The KNN model also produces reasonable outputs without a lot of adjustments. SVC was a clear choice for us as it works well with sparse data. Our data had several \"8\" inputs once we replaced them with NaNs in our data clearing procedure. It was easy to work with, train, and made quick predictions. "
   ]
  },
  {
   "cell_type": "code",
   "execution_count": 26,
   "metadata": {},
   "outputs": [],
   "source": [
    "from sklearn.model_selection import GridSearchCV\n",
    "\n",
    "def model_optimize(X_train, y_train, X_test, y_test):\n",
    "    print(\"Model Optimization Resuls\")\n",
    "    print(\"___________________________________________\")\n",
    "    final_dict = {}\n",
    "    best_estimators = {'Support Vector Machine': LinearSVC(max_iter = 1000000)}\n",
    "    param_grid = {\"max_iter\" : [1000, 10000, 100000, 1000000, 10000000]}\n",
    "    \n",
    "    for name, model in best_estimators.items():\n",
    "        \n",
    "        grid_search = GridSearchCV(model, param_grid, cv = 5)\n",
    "        #fit to model/name for each estimator\n",
    "        grid_search.fit(X = X_train, y = y_train)\n",
    "        \n",
    "        print(name)\n",
    "        print(\"\\tBest Score: \", grid_search.best_score_)\n",
    "        \n",
    "        print(\"\\tBest params: \", grid_search.best_params_)\n",
    "        print()\n",
    "        final_dict[name] = grid_search.best_params_\n",
    "    \n",
    "    final_dict_1 = {}\n",
    "    best_estimators_1 = {'K-Nearest Neighbor': KNeighborsClassifier()}\n",
    "    param_grid_1 = {\"n_neighbors\" : [3, 4, 5, 6, 7]}\n",
    "    \n",
    "    for name, model in best_estimators_1.items():\n",
    "        \n",
    "        grid_search = GridSearchCV(model, param_grid_1, cv = 5)\n",
    "        \n",
    "        grid_search.fit(X = X_train, y = y_train)\n",
    "        \n",
    "        print(name)\n",
    "        print(\"\\tBest Score: \", grid_search.best_score_)\n",
    "        \n",
    "        print(\"\\tBest params: \", grid_search.best_params_)\n",
    "        print()\n",
    "        final_dict_1[name] = grid_search.best_params_\n",
    "    \n",
    "    \n",
    "    return final_dict, final_dict_1\n"
   ]
  },
  {
   "cell_type": "code",
   "execution_count": 27,
   "metadata": {},
   "outputs": [
    {
     "name": "stdout",
     "output_type": "stream",
     "text": [
      "Model Optimization Resuls\n",
      "___________________________________________\n"
     ]
    },
    {
     "name": "stderr",
     "output_type": "stream",
     "text": [
      "/opt/anaconda3/lib/python3.7/site-packages/sklearn/model_selection/_split.py:667: UserWarning: The least populated class in y has only 4 members, which is less than n_splits=5.\n",
      "  % (min_groups, self.n_splits)), UserWarning)\n"
     ]
    },
    {
     "name": "stdout",
     "output_type": "stream",
     "text": [
      "Support Vector Machine\n",
      "\tBest Score:  0.8148144382308085\n",
      "\tBest params:  {'max_iter': 1000}\n",
      "\n"
     ]
    },
    {
     "name": "stderr",
     "output_type": "stream",
     "text": [
      "/opt/anaconda3/lib/python3.7/site-packages/sklearn/model_selection/_split.py:667: UserWarning: The least populated class in y has only 4 members, which is less than n_splits=5.\n",
      "  % (min_groups, self.n_splits)), UserWarning)\n"
     ]
    },
    {
     "name": "stdout",
     "output_type": "stream",
     "text": [
      "K-Nearest Neighbor\n",
      "\tBest Score:  0.8283604473817997\n",
      "\tBest params:  {'n_neighbors': 7}\n",
      "\n"
     ]
    }
   ],
   "source": [
    "SVC_optimized = model_optimize(X_train_selected, y_train, X_test_selected, y_test)"
   ]
  },
  {
   "cell_type": "markdown",
   "metadata": {},
   "source": [
    "###  3.6 Model Testing"
   ]
  },
  {
   "cell_type": "code",
   "execution_count": 28,
   "metadata": {},
   "outputs": [],
   "source": [
    "def SVC_optimize():\n",
    "   \n",
    "    param_grid = {\"max_iter\" : [1000, 10000, 100000, 1000000, 10000000]}\n",
    "    \n",
    "    grid_search = GridSearchCV(LinearSVC(max_iter = 1000000), param_grid, cv=5)\n",
    "    \n",
    "    grid_search.fit(X=X_train_selected, y=y_train)\n",
    "    #store best param in a variable to be used later\n",
    "    best_param_SVC = grid_search.best_params_\n",
    "\n",
    "    #find best paramaters\n",
    "    print(\"\\tBest parameters: \", grid_search.best_params_)\n",
    "    print(\"\\tBest Score: \", grid_search.best_score_)\n",
    "    \n",
    "    return best_param_SVC"
   ]
  },
  {
   "cell_type": "code",
   "execution_count": 29,
   "metadata": {},
   "outputs": [
    {
     "name": "stderr",
     "output_type": "stream",
     "text": [
      "/opt/anaconda3/lib/python3.7/site-packages/sklearn/model_selection/_split.py:667: UserWarning: The least populated class in y has only 4 members, which is less than n_splits=5.\n",
      "  % (min_groups, self.n_splits)), UserWarning)\n"
     ]
    },
    {
     "name": "stdout",
     "output_type": "stream",
     "text": [
      "\tBest parameters:  {'max_iter': 1000}\n",
      "\tBest Score:  0.8148144382308085\n"
     ]
    }
   ],
   "source": [
    "best_param_SVC = SVC_optimize()"
   ]
  },
  {
   "cell_type": "code",
   "execution_count": 30,
   "metadata": {},
   "outputs": [],
   "source": [
    "def k_Nearest_optimize():\n",
    "   \n",
    "    param_grid = {\"n_neighbors\" : [3, 4, 5, 6, 7]}\n",
    "    \n",
    "    grid_search = GridSearchCV(KNeighborsClassifier(), param_grid, cv=5)\n",
    "    \n",
    "    grid_search.fit(X=X_train_selected, y=y_train)\n",
    "     #store best param in a variable to be used later\n",
    "    best_param_k_Near = grid_search.best_params_\n",
    "\n",
    "    #find best paramaters\n",
    "    print(\"\\tBest parameters: \", grid_search.best_params_)\n",
    "    print(\"\\tBest Score: \", grid_search.best_score_)\n",
    "    \n",
    "    \n",
    "    return best_param_k_Near"
   ]
  },
  {
   "cell_type": "code",
   "execution_count": 31,
   "metadata": {},
   "outputs": [
    {
     "name": "stderr",
     "output_type": "stream",
     "text": [
      "/opt/anaconda3/lib/python3.7/site-packages/sklearn/model_selection/_split.py:667: UserWarning: The least populated class in y has only 4 members, which is less than n_splits=5.\n",
      "  % (min_groups, self.n_splits)), UserWarning)\n"
     ]
    },
    {
     "name": "stdout",
     "output_type": "stream",
     "text": [
      "\tBest parameters:  {'n_neighbors': 7}\n",
      "\tBest Score:  0.8283604473817997\n"
     ]
    }
   ],
   "source": [
    "best_param_k_Near = k_Nearest_optimize()"
   ]
  },
  {
   "cell_type": "code",
   "execution_count": 32,
   "metadata": {},
   "outputs": [],
   "source": [
    "def tuned_SVC():\n",
    "    print(\"Tuned SVC Accuracy:\")\n",
    "    print(best_param_SVC)\n",
    "    print(\"___________________\")\n",
    "    print(\"\\t\")\n",
    "    #setting new model with best param as the new max_iter through saved variable\n",
    "    svc = LinearSVC(max_iter = best_param_SVC[\"max_iter\"])\n",
    "    svc.fit(X=X_train_selected,y=y_train)\n",
    "    predicted = svc.predict(X=X_test_selected)\n",
    "    accuracy = svc.score(X_test_selected, y_test)\n",
    "    print(\"\\t\"f'Prediction accuracy on the test data accuracy: {accuracy:.2%}')"
   ]
  },
  {
   "cell_type": "code",
   "execution_count": 33,
   "metadata": {},
   "outputs": [],
   "source": [
    "def tuned_k_Nearest():\n",
    "    print(\"Tuned K Nearest Neighbors Accuracy:\")\n",
    "    print(best_param_k_Near)\n",
    "    print(\"___________________________________\")\n",
    "    print(\"\\t\")\n",
    "    #setting new model with best param as the new max_iter through saved variable\n",
    "    knn = KNeighborsClassifier(n_neighbors=best_param_k_Near['n_neighbors'])\n",
    "    knn.fit(X=X_train_selected,y=y_train)\n",
    "    predicted = knn.predict(X=X_test_selected)\n",
    "    accuracy = knn.score(X_test_selected, y_test)\n",
    "    print(\"\\t\"f'Prediction accuracy on the test data accuracy: {accuracy:.2%}')"
   ]
  },
  {
   "cell_type": "code",
   "execution_count": 34,
   "metadata": {},
   "outputs": [
    {
     "name": "stdout",
     "output_type": "stream",
     "text": [
      "Tuned SVC Accuracy:\n",
      "{'max_iter': 1000}\n",
      "___________________\n",
      "\t\n",
      "\tPrediction accuracy on the test data accuracy: 82.15%\n",
      "\n",
      "\n",
      "Tuned K Nearest Neighbors Accuracy:\n",
      "{'n_neighbors': 7}\n",
      "___________________________________\n",
      "\t\n",
      "\tPrediction accuracy on the test data accuracy: 83.29%\n"
     ]
    }
   ],
   "source": [
    "tuned_SVC()\n",
    "print(\"\\n\")\n",
    "tuned_k_Nearest()"
   ]
  },
  {
   "cell_type": "code",
   "execution_count": 35,
   "metadata": {},
   "outputs": [],
   "source": [
    "#2020 Prediction"
   ]
  },
  {
   "cell_type": "code",
   "execution_count": 36,
   "metadata": {},
   "outputs": [],
   "source": [
    "url_2020 = 'https://raw.githubusercontent.com/danielchun321/ds3000project/master/cbb2020_test_data.csv'\n",
    "X_test_2020 = pd.read_csv(url_2020)"
   ]
  },
  {
   "cell_type": "code",
   "execution_count": 37,
   "metadata": {},
   "outputs": [],
   "source": [
    "TEAM_2020 = X_test_2020[\"TEAM\"]\n",
    "X_test_2020 = X_test_2020.drop(\"TEAM\", axis = 1)\n",
    "X_test_2020 = X_test_2020.drop(\"CONF\", axis = 1)\n",
    "X_test_2020 = X_test_2020.drop(\"YEAR\", axis = 1)\n",
    "X_test_2020 = X_test_2020.drop(\"target\", axis = 1)"
   ]
  },
  {
   "cell_type": "code",
   "execution_count": 38,
   "metadata": {},
   "outputs": [
    {
     "data": {
      "text/html": [
       "<div>\n",
       "<style scoped>\n",
       "    .dataframe tbody tr th:only-of-type {\n",
       "        vertical-align: middle;\n",
       "    }\n",
       "\n",
       "    .dataframe tbody tr th {\n",
       "        vertical-align: top;\n",
       "    }\n",
       "\n",
       "    .dataframe thead th {\n",
       "        text-align: right;\n",
       "    }\n",
       "</style>\n",
       "<table border=\"1\" class=\"dataframe\">\n",
       "  <thead>\n",
       "    <tr style=\"text-align: right;\">\n",
       "      <th></th>\n",
       "      <th>G</th>\n",
       "      <th>W</th>\n",
       "      <th>ADJOE</th>\n",
       "      <th>ADJDE</th>\n",
       "      <th>BARTHAG</th>\n",
       "      <th>EFG_O</th>\n",
       "      <th>EFG_D</th>\n",
       "      <th>TOR</th>\n",
       "      <th>TORD</th>\n",
       "      <th>ORB</th>\n",
       "      <th>DRB</th>\n",
       "      <th>FTR</th>\n",
       "      <th>FTRD</th>\n",
       "      <th>2P_O</th>\n",
       "      <th>2P_D</th>\n",
       "      <th>3P_O</th>\n",
       "      <th>3P_D</th>\n",
       "      <th>ADJ_T</th>\n",
       "      <th>WAB</th>\n",
       "    </tr>\n",
       "  </thead>\n",
       "  <tbody>\n",
       "    <tr>\n",
       "      <th>0</th>\n",
       "      <td>30</td>\n",
       "      <td>28</td>\n",
       "      <td>116.1</td>\n",
       "      <td>87.7</td>\n",
       "      <td>0.9616</td>\n",
       "      <td>53.7</td>\n",
       "      <td>43.7</td>\n",
       "      <td>18.7</td>\n",
       "      <td>18.6</td>\n",
       "      <td>32.6</td>\n",
       "      <td>26.4</td>\n",
       "      <td>35.8</td>\n",
       "      <td>23.2</td>\n",
       "      <td>54.9</td>\n",
       "      <td>42.4</td>\n",
       "      <td>34.1</td>\n",
       "      <td>30.5</td>\n",
       "      <td>67.4</td>\n",
       "      <td>10.8</td>\n",
       "    </tr>\n",
       "    <tr>\n",
       "      <th>1</th>\n",
       "      <td>30</td>\n",
       "      <td>26</td>\n",
       "      <td>114.5</td>\n",
       "      <td>88.4</td>\n",
       "      <td>0.9513</td>\n",
       "      <td>49.4</td>\n",
       "      <td>45.2</td>\n",
       "      <td>17.8</td>\n",
       "      <td>22.7</td>\n",
       "      <td>35.8</td>\n",
       "      <td>29.8</td>\n",
       "      <td>30.8</td>\n",
       "      <td>30.8</td>\n",
       "      <td>47.5</td>\n",
       "      <td>44.4</td>\n",
       "      <td>35.1</td>\n",
       "      <td>31.1</td>\n",
       "      <td>66.2</td>\n",
       "      <td>8.5</td>\n",
       "    </tr>\n",
       "    <tr>\n",
       "      <th>2</th>\n",
       "      <td>33</td>\n",
       "      <td>31</td>\n",
       "      <td>121.3</td>\n",
       "      <td>94.3</td>\n",
       "      <td>0.9472</td>\n",
       "      <td>57.5</td>\n",
       "      <td>47.6</td>\n",
       "      <td>15.3</td>\n",
       "      <td>18.4</td>\n",
       "      <td>33.6</td>\n",
       "      <td>22.7</td>\n",
       "      <td>38.8</td>\n",
       "      <td>21.8</td>\n",
       "      <td>57.4</td>\n",
       "      <td>47.4</td>\n",
       "      <td>38.6</td>\n",
       "      <td>32.0</td>\n",
       "      <td>72.0</td>\n",
       "      <td>7.7</td>\n",
       "    </tr>\n",
       "    <tr>\n",
       "      <th>3</th>\n",
       "      <td>31</td>\n",
       "      <td>29</td>\n",
       "      <td>119.5</td>\n",
       "      <td>93.4</td>\n",
       "      <td>0.9445</td>\n",
       "      <td>59.7</td>\n",
       "      <td>46.6</td>\n",
       "      <td>18.0</td>\n",
       "      <td>18.8</td>\n",
       "      <td>26.4</td>\n",
       "      <td>26.6</td>\n",
       "      <td>33.9</td>\n",
       "      <td>30.9</td>\n",
       "      <td>62.3</td>\n",
       "      <td>45.1</td>\n",
       "      <td>37.1</td>\n",
       "      <td>33.0</td>\n",
       "      <td>67.5</td>\n",
       "      <td>6.8</td>\n",
       "    </tr>\n",
       "    <tr>\n",
       "      <th>4</th>\n",
       "      <td>31</td>\n",
       "      <td>22</td>\n",
       "      <td>114.8</td>\n",
       "      <td>91.3</td>\n",
       "      <td>0.9326</td>\n",
       "      <td>52.6</td>\n",
       "      <td>43.3</td>\n",
       "      <td>18.1</td>\n",
       "      <td>15.8</td>\n",
       "      <td>32.8</td>\n",
       "      <td>26.0</td>\n",
       "      <td>30.8</td>\n",
       "      <td>29.3</td>\n",
       "      <td>52.9</td>\n",
       "      <td>43.4</td>\n",
       "      <td>34.8</td>\n",
       "      <td>28.7</td>\n",
       "      <td>69.3</td>\n",
       "      <td>5.2</td>\n",
       "    </tr>\n",
       "  </tbody>\n",
       "</table>\n",
       "</div>"
      ],
      "text/plain": [
       "    G   W  ADJOE  ADJDE  BARTHAG  EFG_O  EFG_D   TOR  TORD   ORB   DRB   FTR  \\\n",
       "0  30  28  116.1   87.7   0.9616   53.7   43.7  18.7  18.6  32.6  26.4  35.8   \n",
       "1  30  26  114.5   88.4   0.9513   49.4   45.2  17.8  22.7  35.8  29.8  30.8   \n",
       "2  33  31  121.3   94.3   0.9472   57.5   47.6  15.3  18.4  33.6  22.7  38.8   \n",
       "3  31  29  119.5   93.4   0.9445   59.7   46.6  18.0  18.8  26.4  26.6  33.9   \n",
       "4  31  22  114.8   91.3   0.9326   52.6   43.3  18.1  15.8  32.8  26.0  30.8   \n",
       "\n",
       "   FTRD  2P_O  2P_D  3P_O  3P_D  ADJ_T   WAB  \n",
       "0  23.2  54.9  42.4  34.1  30.5   67.4  10.8  \n",
       "1  30.8  47.5  44.4  35.1  31.1   66.2   8.5  \n",
       "2  21.8  57.4  47.4  38.6  32.0   72.0   7.7  \n",
       "3  30.9  62.3  45.1  37.1  33.0   67.5   6.8  \n",
       "4  29.3  52.9  43.4  34.8  28.7   69.3   5.2  "
      ]
     },
     "execution_count": 38,
     "metadata": {},
     "output_type": "execute_result"
    }
   ],
   "source": [
    "X_test_2020.head()"
   ]
  },
  {
   "cell_type": "code",
   "execution_count": 39,
   "metadata": {},
   "outputs": [],
   "source": [
    "scaler = MinMaxScaler()\n",
    "\n",
    "def preprocessor_2020(X_train, X_test_2020):\n",
    "    scaler = MinMaxScaler().fit(X_train)\n",
    "    \n",
    "    #scale testing and training sets\n",
    "    X_train_scaled = scaler.transform(X_train)\n",
    "    X_test_2020_scaled = scaler.transform(X_test)\n",
    "\n",
    "    return X_train_scaled, X_test_2020_scaled\n"
   ]
  },
  {
   "cell_type": "code",
   "execution_count": 40,
   "metadata": {},
   "outputs": [],
   "source": [
    "X_train_scaled, X_test_2020_scaled = preprocessor_2020(X_train, X_test_2020)"
   ]
  },
  {
   "cell_type": "code",
   "execution_count": 41,
   "metadata": {},
   "outputs": [],
   "source": [
    "def predict_2020_winner():\n",
    "\n",
    "    knn = KNeighborsClassifier(n_neighbors=best_param_k_Near['n_neighbors'])\n",
    "    knn.fit(X=X_train_selected,y=y_train)\n",
    "    predicted = knn.predict(X=X_test_selected)\n",
    "\n",
    "    return predicted"
   ]
  },
  {
   "cell_type": "code",
   "execution_count": 42,
   "metadata": {},
   "outputs": [],
   "source": [
    "predicted = predict_2020_winner()\n",
    "predicted_df = pd.DataFrame(predicted)\n",
    "predicted_df = predicted_df.rename(columns = {0:\"predicted\"})\n",
    "\n",
    "winner_dict = {0:\"Champions\", 1:\"2ND\", 2:\"F4\", 3:\"E8\", 4:\"S16\", 5:\"R32\", 6:\"R64\", 7:\"R68\", 8:\"--\"}\n",
    "\n",
    "predicted_df = predicted_df.replace({\"predicted\": winner_dict})"
   ]
  },
  {
   "cell_type": "code",
   "execution_count": 43,
   "metadata": {},
   "outputs": [],
   "source": [
    "data1 = TEAM_2020\n",
    "data2 = X_test_2020\n",
    "data3 = predicted_df\n",
    "\n",
    "MarchMadness2020 = pd.concat([data1, data2, data3], axis=1)\n",
    "MarchMadness2020 = MarchMadness2020.set_index(\"TEAM\")"
   ]
  },
  {
   "cell_type": "code",
   "execution_count": 44,
   "metadata": {},
   "outputs": [
    {
     "data": {
      "text/html": [
       "<div>\n",
       "<style scoped>\n",
       "    .dataframe tbody tr th:only-of-type {\n",
       "        vertical-align: middle;\n",
       "    }\n",
       "\n",
       "    .dataframe tbody tr th {\n",
       "        vertical-align: top;\n",
       "    }\n",
       "\n",
       "    .dataframe thead th {\n",
       "        text-align: right;\n",
       "    }\n",
       "</style>\n",
       "<table border=\"1\" class=\"dataframe\">\n",
       "  <thead>\n",
       "    <tr style=\"text-align: right;\">\n",
       "      <th></th>\n",
       "      <th>G</th>\n",
       "      <th>W</th>\n",
       "      <th>ADJOE</th>\n",
       "      <th>ADJDE</th>\n",
       "      <th>BARTHAG</th>\n",
       "      <th>EFG_O</th>\n",
       "      <th>EFG_D</th>\n",
       "      <th>TOR</th>\n",
       "      <th>TORD</th>\n",
       "      <th>ORB</th>\n",
       "      <th>DRB</th>\n",
       "      <th>FTR</th>\n",
       "      <th>FTRD</th>\n",
       "      <th>2P_O</th>\n",
       "      <th>2P_D</th>\n",
       "      <th>3P_O</th>\n",
       "      <th>3P_D</th>\n",
       "      <th>ADJ_T</th>\n",
       "      <th>WAB</th>\n",
       "      <th>predicted</th>\n",
       "    </tr>\n",
       "    <tr>\n",
       "      <th>TEAM</th>\n",
       "      <th></th>\n",
       "      <th></th>\n",
       "      <th></th>\n",
       "      <th></th>\n",
       "      <th></th>\n",
       "      <th></th>\n",
       "      <th></th>\n",
       "      <th></th>\n",
       "      <th></th>\n",
       "      <th></th>\n",
       "      <th></th>\n",
       "      <th></th>\n",
       "      <th></th>\n",
       "      <th></th>\n",
       "      <th></th>\n",
       "      <th></th>\n",
       "      <th></th>\n",
       "      <th></th>\n",
       "      <th></th>\n",
       "      <th></th>\n",
       "    </tr>\n",
       "  </thead>\n",
       "  <tbody>\n",
       "    <tr>\n",
       "      <th>Baylor</th>\n",
       "      <td>30</td>\n",
       "      <td>26</td>\n",
       "      <td>114.5</td>\n",
       "      <td>88.4</td>\n",
       "      <td>0.9513</td>\n",
       "      <td>49.4</td>\n",
       "      <td>45.2</td>\n",
       "      <td>17.8</td>\n",
       "      <td>22.7</td>\n",
       "      <td>35.8</td>\n",
       "      <td>29.8</td>\n",
       "      <td>30.8</td>\n",
       "      <td>30.8</td>\n",
       "      <td>47.5</td>\n",
       "      <td>44.4</td>\n",
       "      <td>35.1</td>\n",
       "      <td>31.1</td>\n",
       "      <td>66.2</td>\n",
       "      <td>8.5</td>\n",
       "      <td>Champions</td>\n",
       "    </tr>\n",
       "  </tbody>\n",
       "</table>\n",
       "</div>"
      ],
      "text/plain": [
       "         G   W  ADJOE  ADJDE  BARTHAG  EFG_O  EFG_D   TOR  TORD   ORB   DRB  \\\n",
       "TEAM                                                                          \n",
       "Baylor  30  26  114.5   88.4   0.9513   49.4   45.2  17.8  22.7  35.8  29.8   \n",
       "\n",
       "         FTR  FTRD  2P_O  2P_D  3P_O  3P_D  ADJ_T  WAB  predicted  \n",
       "TEAM                                                               \n",
       "Baylor  30.8  30.8  47.5  44.4  35.1  31.1   66.2  8.5  Champions  "
      ]
     },
     "execution_count": 44,
     "metadata": {},
     "output_type": "execute_result"
    }
   ],
   "source": [
    "MarchMadness2020[MarchMadness2020['predicted'] == 'Champions']"
   ]
  },
  {
   "cell_type": "markdown",
   "metadata": {},
   "source": [
    "According to our model, **Baylor** is the 2020 March Madness Champion."
   ]
  },
  {
   "cell_type": "markdown",
   "metadata": {},
   "source": [
    "## 4. Discussion"
   ]
  },
  {
   "cell_type": "markdown",
   "metadata": {},
   "source": [
    "### Summary\n",
    "\n",
    "To analyze our data, we had a csv file containing team statistics from 2015-2018, and another with the 2019 season stats. The csv file with 4 years of data was converted to a dataframe and used as the training set, whereas the file with the 2019 team stats was used as the testing set. We also combined the two datasets, which was then used to run cross validation testing method. We visualized the data on defensive statistics as well as a team's ability to beat another D1 team, which is tied to one of the original research questions, and concluded that there is a strong correlation between performance in the tournament and the BARTHAG and WAB stats. This is evident from the feature selection test that we conducted, where BARTHAG and WAB were found in the top 50% of important statistics from this dataset. "
   ]
  },
  {
   "cell_type": "markdown",
   "metadata": {},
   "source": [
    "### Interpretation of Findings\n",
    "\n",
    "***Algorithms Compared***\n",
    "\n",
    "We compared K-Nearest Neighbors, Support Vector Machine, Gaussian Naive Bayes, and the Decision Tree classifiers.\n",
    "\n",
    "\n",
    "\n",
    "***Algorithms with Best Performance***\n",
    "\n",
    "The K-Nearest Neighbors and Support Vector Machine algorithms performed best. \n",
    "\n",
    "    GridSearchCV\n",
    "    * KNN: Best Score:  0.8283604473817997\n",
    "    * SVC: Best Score:  0.8148144382308085\n",
    "    \n",
    "    \n",
    "    Tuned Accuracy\n",
    "    * KNN: mean accuracy=83.29%\n",
    "    * SVC: mean accuracy=82.15%"
   ]
  },
  {
   "cell_type": "markdown",
   "metadata": {},
   "source": [
    "### Original Questions/Hypotheses\n",
    "\n",
    "**Questions**\n",
    "\n",
    "- Which regular season statistics are more important to a team's progress in the tournament?\n",
    "\n",
    "    From the feature selection, the most important stats relevant to a team's progress in the tournament are:\n",
    "\n",
    "    Selected Features using Model Based Method:\n",
    "\t - G\n",
    "\t - W\n",
    "\t - BARTHAG\n",
    "\t - EFG_O\n",
    "\t - TORD\n",
    "\t - DRB\n",
    "\t - FTRD\n",
    "\t - 3P_O\n",
    "\t - 3P_D\n",
    "\t - WAB\n",
    "\n",
    "\n",
    "\n",
    "- Does defense really win championships? (Are defensive stats more relevant than offensive stats?)\n",
    "\n",
    "    Although defensive stats are important (TORD, DRB, FTRD, 3P_D) as seen above in the feature selection, not every stat from the feature selection was a defensive metric.\n",
    "\n",
    "\n",
    "- Can we train a machine learning model to predict the final outcome of every team? In other words, which machine learning algorithm would work best: KNeighborsClassifier, Support Vector Machine, Gaussian Naive Bayes, or Decision Tree\n",
    "\n",
    "    The KNN classifier and the Support Vector Machine classifier worked best. After tuning the results, the KNN classifier had a prediction accuracy of 83.29% and the SVC had a prediction accuracy of 82.15%. \n"
   ]
  },
  {
   "cell_type": "markdown",
   "metadata": {},
   "source": [
    "### Conclusion\n",
    "\n",
    "The best way to improve the results of this project would be to acquire more data. By having more years of past team data to train the algorithm on, the model will naturally yield improved results as we only used four seasons of data for training. \n",
    "\n",
    "Another way to improve this project would be to train individual match results, so that the winner between two teams can be predicted rather than a single team as the champions at the end. This would require many more predictions per data point, as well as the results of each game played in the past, and will potentially lower the accuracy of the model.\n"
   ]
  },
  {
   "cell_type": "code",
   "execution_count": null,
   "metadata": {},
   "outputs": [],
   "source": []
  }
 ],
 "metadata": {
  "kernelspec": {
   "display_name": "Python 3",
   "language": "python",
   "name": "python3"
  },
  "language_info": {
   "codemirror_mode": {
    "name": "ipython",
    "version": 3
   },
   "file_extension": ".py",
   "mimetype": "text/x-python",
   "name": "python",
   "nbconvert_exporter": "python",
   "pygments_lexer": "ipython3",
   "version": "3.7.6"
  }
 },
 "nbformat": 4,
 "nbformat_minor": 4
}
